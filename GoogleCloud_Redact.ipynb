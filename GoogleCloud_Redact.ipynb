{
 "cells": [
  {
   "cell_type": "markdown",
   "metadata": {},
   "source": [
    "# Redact Text from Images\n",
    "The info_types variable is a list of strings containing the info\n",
    "type that should be redacted. In the below example, we are redacting PERSON_NAME, DATE, \n",
    "PHONE_NUMBER, and so on. Once this cell has been run, go to the next cell for further instructions."
   ]
  },
  {
   "cell_type": "code",
   "execution_count": 2,
   "metadata": {},
   "outputs": [],
   "source": [
    "import mimetypes\n",
    "\n",
    "# set project ID\n",
    "project_id = 'mortgagedocscv'\n",
    "\n",
    "# specify built-in info types\n",
    "info_types = [\"PERSON_NAME\",\"DATE\",\"PHONE_NUMBER\",\"STREET_ADDRESS\",\"LOCATION\",\n",
    "                  \"US_SOCIAL_SECURITY_NUMBER\",\"US_STATE\",\"AGE\",\"CREDIT_CARD_NUMBER\",\n",
    "                 \"DATE_OF_BIRTH\",\"US_DRIVERS_LICENSE_NUMBER\",\"US_EMPLOYER_IDENTIFICATION_NUMBER\",\n",
    "                 \"US_INDIVIDUAL_TAXPAYER_IDENTIFICATION_NUMBER\",\"US_VEHICLE_IDENTIFICATION_NUMBER\",\n",
    "                 \"US_PREPARER_TAXPAYER_IDENTIFICATION_NUMBER\",\"PASSPORT\"]\n",
    "\n",
    "# specify custom info types\n",
    "custom_info_types = [{'info_type':{'name':'DATE'},\"regex\": {\"pattern\": \"[0-9]\"}}]"
   ]
  },
  {
   "cell_type": "markdown",
   "metadata": {},
   "source": [
    "This next cell sets up the redact_image function which will be called in the cell after."
   ]
  },
  {
   "cell_type": "code",
   "execution_count": 3,
   "metadata": {},
   "outputs": [],
   "source": [
    "def redact_image(\n",
    "    project,\n",
    "    filename,\n",
    "    output_filename,\n",
    "    info_types,\n",
    "    custom_info_types,\n",
    "    min_likelihood=None,\n",
    "    mime_type=None,\n",
    "):\n",
    "    \"\"\"Uses the Data Loss Prevention API to redact protected data in an image.\n",
    "    Args:\n",
    "        project: The Google Cloud project id to use as a parent resource.\n",
    "        filename: The path to the file to inspect.\n",
    "        output_filename: The path to which the redacted image will be written.\n",
    "        info_types: A list of strings representing info types to look for.\n",
    "            A full list of info type categories can be fetched from the API.\n",
    "        min_likelihood: A string representing the minimum likelihood threshold\n",
    "            that constitutes a match. One of: 'LIKELIHOOD_UNSPECIFIED',\n",
    "            'VERY_UNLIKELY', 'UNLIKELY', 'POSSIBLE', 'LIKELY', 'VERY_LIKELY'.\n",
    "        mime_type: The MIME type of the file. If not specified, the type is\n",
    "            inferred via the Python standard library's mimetypes module.\n",
    "    Returns:\n",
    "        None; the response from the API is printed to the terminal.\n",
    "    \"\"\"\n",
    "    # Import the client library\n",
    "    import google.cloud.dlp\n",
    "\n",
    "    # Instantiate a client.\n",
    "    dlp = google.cloud.dlp_v2.DlpServiceClient()\n",
    "\n",
    "    # Prepare info_types by converting the list of strings into a list of\n",
    "    # dictionaries (protos are also accepted).\n",
    "    info_types = [{\"name\": info_type} for info_type in info_types]\n",
    "#     print('\\ninfo_types:',info_types)\n",
    "#     print('\\ncustom_info_types:',custom_info_types)\n",
    "    \n",
    "    # Prepare image_redaction_configs, a list of dictionaries. Each dictionary\n",
    "    # contains an info_type and optionally the color used for the replacement.\n",
    "    # The color is omitted in this sample, so the default (black) will be used.\n",
    "    image_redaction_configs = []\n",
    "    if info_types is not None:\n",
    "        for info_type in info_types:\n",
    "            image_redaction_configs.append({\"info_type\": info_type})\n",
    "#     print('\\nimage_redaction_configs:',image_redaction_configs)\n",
    "    \n",
    "    # Construct the configuration dictionary. Keys which are None may\n",
    "    # optionally be omitted entirely.\n",
    "    inspect_config = {\n",
    "        \"custom_info_types\": custom_info_types,\n",
    "        \"info_types\": info_types,\n",
    "        \"min_likelihood\": min_likelihood\n",
    "    }\n",
    "#     print('\\ninspect_config:',inspect_config)\n",
    "    # If mime_type is not specified, guess it from the filename.\n",
    "    if mime_type is None:\n",
    "        mime_guess = mimetypes.MimeTypes().guess_type(filename)\n",
    "        mime_type = mime_guess[0] or \"application/octet-stream\"\n",
    "\n",
    "    # Select the content type index from the list of supported types.\n",
    "    supported_content_types = {\n",
    "        None: 0,  # \"Unspecified\"\n",
    "        \"image/jpeg\": 1,\n",
    "        \"image/bmp\": 2,\n",
    "        \"image/png\": 3,\n",
    "        \"image/svg\": 4,\n",
    "        \"text/plain\": 5,\n",
    "    }\n",
    "    content_type_index = supported_content_types.get(mime_type, 0)\n",
    "\n",
    "    # Construct the byte_item, containing the file's byte data.\n",
    "    with open(filename, mode=\"rb\") as f:\n",
    "        byte_item = {\"type\": content_type_index, \"data\": f.read()}\n",
    "\n",
    "    # Convert the project id into a full resource id.\n",
    "    parent = dlp.project_path(project)\n",
    "\n",
    "    # Call the API.\n",
    "    response = dlp.redact_image(\n",
    "        parent,\n",
    "        inspect_config=inspect_config,\n",
    "        image_redaction_configs=image_redaction_configs,\n",
    "        byte_item=byte_item,\n",
    "    )\n",
    "\n",
    "    # Write out the results.\n",
    "    with open(output_filename, mode=\"wb\") as f:\n",
    "        f.write(response.redacted_image)\n",
    "    print(\n",
    "        \"\\nWrote {byte_count} to {filename}\".format(\n",
    "            byte_count=len(response.redacted_image), filename=output_filename\n",
    "        )\n",
    "    )"
   ]
  },
  {
   "cell_type": "markdown",
   "metadata": {},
   "source": [
    "# Set Path for Images"
   ]
  },
  {
   "cell_type": "code",
   "execution_count": 4,
   "metadata": {},
   "outputs": [
    {
     "name": "stdout",
     "output_type": "stream",
     "text": [
      "path:  ['C:\\\\Users\\\\pwalsh\\\\env-google-cloud\\\\Lib\\\\site-packages\\\\images\\\\original\\\\testing', 'C:\\\\Users\\\\pwalsh\\\\env-google-cloud\\\\Lib\\\\site-packages\\\\images\\\\original\\\\validation\\\\page1', 'C:\\\\Users\\\\pwalsh\\\\env-google-cloud\\\\Lib\\\\site-packages\\\\images\\\\original\\\\validation\\\\other', 'C:\\\\Users\\\\pwalsh\\\\env-google-cloud\\\\Lib\\\\site-packages\\\\images\\\\original\\\\training\\\\page1', 'C:\\\\Users\\\\pwalsh\\\\env-google-cloud\\\\Lib\\\\site-packages\\\\images\\\\original\\\\training\\\\other']\n"
     ]
    }
   ],
   "source": [
    "path = []\n",
    "path.append(r'C:\\Users\\pwalsh\\env-google-cloud\\Lib\\site-packages\\images\\original\\testing')\n",
    "path.append(r'C:\\Users\\pwalsh\\env-google-cloud\\Lib\\site-packages\\images\\original\\validation\\page1')\n",
    "path.append(r'C:\\Users\\pwalsh\\env-google-cloud\\Lib\\site-packages\\images\\original\\validation\\other')\n",
    "path.append(r'C:\\Users\\pwalsh\\env-google-cloud\\Lib\\site-packages\\images\\original\\training\\page1')\n",
    "path.append(r'C:\\Users\\pwalsh\\env-google-cloud\\Lib\\site-packages\\images\\original\\training\\other')\n",
    "print('path: ',path)"
   ]
  },
  {
   "cell_type": "code",
   "execution_count": 51,
   "metadata": {},
   "outputs": [
    {
     "name": "stdout",
     "output_type": "stream",
     "text": [
      "path:  ['C:\\\\Users\\\\pwalsh\\\\env-google-cloud\\\\Lib\\\\site-packages\\\\images\\\\original\\\\test']\n"
     ]
    }
   ],
   "source": [
    "# path = []\n",
    "# path.append(r'C:\\Users\\pwalsh\\env-google-cloud\\Lib\\site-packages\\images\\original\\test')\n",
    "# print('path: ',path)"
   ]
  },
  {
   "cell_type": "markdown",
   "metadata": {},
   "source": [
    "# Redact Images"
   ]
  },
  {
   "cell_type": "markdown",
   "metadata": {},
   "source": [
    "Here, we call the redact_image function. This function has 4 inputs: \n",
    "1. the pathway to the image which needs redacting.\n",
    "2. the pathway to where you want the redacted version of the image saved.\n",
    "3. the info_types variable that we set in the first cell of this notebook.\n",
    "4. the custom_info_types variable that we set in the first cell of this notebook."
   ]
  },
  {
   "cell_type": "code",
   "execution_count": null,
   "metadata": {},
   "outputs": [
    {
     "name": "stdout",
     "output_type": "stream",
     "text": [
      "C:\\Users\\pwalsh\\env-google-cloud\\Lib\\site-packages\\images\\original\\testing\n",
      "\n",
      "Wrote 634220 to C:\\Users\\pwalsh\\env-google-cloud\\Lib\\site-packages\\images\\original\\testing\\acbp_other_test_3040w_11_redact.jpg\n",
      "image no. 1\n",
      "\n",
      "Wrote 630199 to C:\\Users\\pwalsh\\env-google-cloud\\Lib\\site-packages\\images\\original\\testing\\ance_other_test_3036w_8_redact.jpg\n",
      "image no. 2\n",
      "\n",
      "Wrote 71297 to C:\\Users\\pwalsh\\env-google-cloud\\Lib\\site-packages\\images\\original\\testing\\aqnj_other_test_3013w_17_redact.jpg\n",
      "image no. 3\n",
      "\n",
      "Wrote 584317 to C:\\Users\\pwalsh\\env-google-cloud\\Lib\\site-packages\\images\\original\\testing\\atrs_other_test_3029w_5_redact.jpg\n",
      "image no. 4\n",
      "\n",
      "Wrote 129583 to C:\\Users\\pwalsh\\env-google-cloud\\Lib\\site-packages\\images\\original\\testing\\awpf_other_test_3508_5_redact.jpg\n",
      "image no. 5\n"
     ]
    }
   ],
   "source": [
    "# input parameters:\n",
    "# project, filename, output_filename, info_types, custom_info_types, min_likelihood=None, mime_type=None\n",
    "import os, shutil\n",
    "counter = 1\n",
    "\n",
    "for folder in path:\n",
    "    os.chdir(folder)\n",
    "    print(os.getcwd())\n",
    "    files = os.listdir()\n",
    "    subfolder = folder.split(\"original\")\n",
    "    subfolder = subfolder[1]\n",
    "    counter = 1\n",
    "#     print(r\"C:\\Users\\pwalsh\\env-google-cloud\\Lib\\site-packages\\images\\redacted\"+subfolder)\n",
    "    for img in files:\n",
    "        if (img.split(\".\")[-1] == 'jpg'):\n",
    "            img = img[:-4]\n",
    "#             print(img)\n",
    "            os.chdir(r\"C:\\Users\\pwalsh\\env-google-cloud\\Lib\\site-packages\")\n",
    "#             print(\"{}\\{}_redact.jpg\".format(folder,img))\n",
    "#             print(r\"C:\\Users\\pwalsh\\env-google-cloud\\Lib\\site-packages\\images\\redacted\"+subfolder+\"\\{}_redact.jpg\".format(img))\n",
    "\n",
    "            # call redact_image function\n",
    "            redact_image(project_id,\n",
    "                         \"{}\\{}.jpg\".format(folder,img),\n",
    "                         \"{}\\{}_redact.jpg\".format(folder,img),\n",
    "                         info_types,custom_info_types)\n",
    "            print(\"image no. {}\".format(counter))\n",
    "            counter += 1\n",
    "            shutil.move(\"{}\\{}_redact.jpg\".format(folder,img),\n",
    "                       r\"C:\\Users\\pwalsh\\env-google-cloud\\Lib\\site-packages\\images\\redacted\"+subfolder+\"\\{}.jpg\".format(img))"
   ]
  },
  {
   "cell_type": "code",
   "execution_count": 2,
   "metadata": {},
   "outputs": [
    {
     "name": "stdout",
     "output_type": "stream",
     "text": [
      "\n",
      "info_types: [{'name': 'DATE'}, {'name': 'PERSON_NAME'}, {'name': 'US_STATE'}]\n",
      "\n",
      "custom_info_types: [{'info_type': {'name': 'DATE'}, 'regex': {'pattern': '[0-9]'}}]\n",
      "\n",
      "image_redaction_configs: [{'info_type': {'name': 'DATE'}}, {'info_type': {'name': 'PERSON_NAME'}}, {'info_type': {'name': 'US_STATE'}}]\n",
      "\n",
      "inspect_config: {'custom_info_types': [{'info_type': {'name': 'DATE'}, 'regex': {'pattern': '[0-9]'}}], 'info_types': [{'name': 'DATE'}, {'name': 'PERSON_NAME'}, {'name': 'US_STATE'}], 'min_likelihood': None}\n",
      "\n",
      "Wrote 501921 to C:\\Users\\pwalsh\\env-google-cloud\\Lib\\site-packages\\images\\bnmg_page1_test_3505_1_redact13.jpg\n"
     ]
    }
   ],
   "source": [
    "# # input parameters:\n",
    "# # project, filename, output_filename, info_types, custom_info_types, min_likelihood=None, mime_type=None\n",
    "# img = 'bnmg_page1_test_3505_1'\n",
    "# redact_image(project_id,\n",
    "#              r\"C:\\Users\\pwalsh\\env-google-cloud\\Lib\\site-packages\\images\\{}.jpg\".format(img),\n",
    "#              r\"C:\\Users\\pwalsh\\env-google-cloud\\Lib\\site-packages\\images\\{}_redact13.jpg\".format(img),\n",
    "#              info_types,custom_info_types)                                                                                 "
   ]
  }
 ],
 "metadata": {
  "kernelspec": {
   "display_name": "Python 3",
   "language": "python",
   "name": "python3"
  },
  "language_info": {
   "codemirror_mode": {
    "name": "ipython",
    "version": 3
   },
   "file_extension": ".py",
   "mimetype": "text/x-python",
   "name": "python",
   "nbconvert_exporter": "python",
   "pygments_lexer": "ipython3",
   "version": "3.6.5"
  }
 },
 "nbformat": 4,
 "nbformat_minor": 2
}
